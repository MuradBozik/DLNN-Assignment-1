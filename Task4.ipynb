{
 "cells": [
  {
   "cell_type": "code",
   "execution_count": 1,
   "metadata": {},
   "outputs": [],
   "source": [
    "import numpy as np\n",
    "import pandas as pd\n",
    "import seaborn as sns\n",
    "from sklearn.metrics import confusion_matrix, pairwise_distances\n",
    "import matplotlib.pyplot as plt\n",
    "\n",
    "sns.set()"
   ]
  },
  {
   "cell_type": "code",
   "execution_count": 2,
   "metadata": {},
   "outputs": [],
   "source": [
    "def get_rate(matrix):\n",
    "    tp = 0\n",
    "    for i in range(matrix.shape[0]):\n",
    "        tp = tp + matrix[i,i]\n",
    "    rate = np.round(tp/matrix.sum(), 3)*100\n",
    "    #print(f\"{tp} digits correctly classified.\")\n",
    "    #print(f\"Classifier performance rate: %{int(100*rate)}\")\n",
    "    return rate\n",
    "\n",
    "class Network:\n",
    "    def __init__(self, learning_rate, df):\n",
    "        df_in = df.copy().iloc[:,:-1]\n",
    "        df_in.insert(loc=0, column='bias', value=1)\n",
    "        df_out = df.copy().iloc[:,-1]\n",
    "        self.input = df_in.to_numpy()\n",
    "        self.actual = df_out.to_numpy()\n",
    "        self.weights = np.random.random((257,2))\n",
    "        self.learning_rate = learning_rate\n",
    "        self.targets = list(set(df_out))\n",
    "        \n",
    "    def train_network(self, iter_num):\n",
    "        for num in range(iter_num):\n",
    "            # All activated nodes as matrix z\n",
    "            z = np.dot(self.input, self.weights)\n",
    "            # y_predicted is the prediction\n",
    "            y_predicted = np.argmax(z, axis=1)\n",
    "            misclasssifiedIndexes = np.not_equal(y_predicted, self.actual)\n",
    "            # iterate over inputs\n",
    "            for j in range(self.input.shape[0]):\n",
    "                if misclasssifiedIndexes[j]:\n",
    "                    for i in range(len(self.targets)):\n",
    "                        if i == self.targets.index(self.actual[j]):\n",
    "                            self.weights[:,i] = self.weights[:,i] + self.learning_rate*self.input[j]\n",
    "                        elif z[j, i] > z[j,self.targets.index(self.actual[j])]:\n",
    "                            self.weights[:,i] = self.weights[:,i] - self.learning_rate*self.input[j]\n",
    "                            \n",
    "    def modified_training(self, iter_num):\n",
    "        \"\"\"\n",
    "        We updated the learning algorithm with adding an error function. \n",
    "        The definition of the error is (d-y) desired - predicted.\n",
    "        However it can take negative values depend on the value of desired and predicted. \n",
    "        Thats why we define the error as;\n",
    "            Error = 1/2*(d-y)^2\n",
    "        \"\"\"\n",
    "        for num in range(iter_num):\n",
    "            # All activated nodes as matrix z\n",
    "            z = np.dot(self.input, self.weights)\n",
    "            # y_predicted is the prediction\n",
    "            y_predicted = np.argmax(z, axis=1)            \n",
    "            misclasssifiedIndexes = np.not_equal(y_predicted, self.actual)\n",
    "            # iterate over inputs\n",
    "            for j in range(self.input.shape[0]):\n",
    "                error = 1/2*(self.actual[j] - y_predicted[j])**2                \n",
    "                if misclasssifiedIndexes[j]:\n",
    "                    for i in range(len(self.targets)):\n",
    "                        if i == self.targets.index(self.actual[j]):\n",
    "                            self.weights[:,i] = self.weights[:,i] + self.learning_rate*error*self.input[j]\n",
    "                        elif z[j, i] > z[j,self.targets.index(self.actual[j])]:\n",
    "                            self.weights[:,i] = self.weights[:,i] - self.learning_rate*error*self.input[j]\n",
    "        \n",
    "    def predict(self, tSet):\n",
    "        f = tSet.copy().iloc[:, :-1]\n",
    "        targets = list(set(tSet.copy().iloc[:,-1]))\n",
    "        f.insert(loc=0, column='bias', value=1)\n",
    "        result = np.argmax(np.dot(f.to_numpy(), self.weights), axis=1)\n",
    "        for i, v in enumerate(result):\n",
    "            if v == 0:\n",
    "                result[i] = targets[0]\n",
    "            else:\n",
    "                result[i] = targets[1]\n",
    "        return result"
   ]
  },
  {
   "cell_type": "code",
   "execution_count": 3,
   "metadata": {},
   "outputs": [],
   "source": [
    "df_in = pd.read_csv(\"data/train_in.csv\", header=None)\n",
    "df_out = pd.read_csv(\"data/train_out.csv\", header=None, names=['label'])\n",
    "df = df_in.join(df_out)"
   ]
  },
  {
   "cell_type": "code",
   "execution_count": 4,
   "metadata": {},
   "outputs": [],
   "source": [
    "import itertools\n",
    "digits = np.arange(10)\n",
    "pairs = dict()\n",
    "for (d1, d2) in itertools.combinations(digits, r=2):\n",
    "    pairs[(d1, d2)] = df[(df['label']==d1) | (df['label']==d2)]"
   ]
  },
  {
   "cell_type": "code",
   "execution_count": 5,
   "metadata": {},
   "outputs": [
    {
     "data": {
      "text/plain": [
       "dict_keys([(0, 1), (0, 2), (0, 3), (0, 4), (0, 5), (0, 6), (0, 7), (0, 8), (0, 9), (1, 2), (1, 3), (1, 4), (1, 5), (1, 6), (1, 7), (1, 8), (1, 9), (2, 3), (2, 4), (2, 5), (2, 6), (2, 7), (2, 8), (2, 9), (3, 4), (3, 5), (3, 6), (3, 7), (3, 8), (3, 9), (4, 5), (4, 6), (4, 7), (4, 8), (4, 9), (5, 6), (5, 7), (5, 8), (5, 9), (6, 7), (6, 8), (6, 9), (7, 8), (7, 9), (8, 9)])"
      ]
     },
     "execution_count": 5,
     "metadata": {},
     "output_type": "execute_result"
    }
   ],
   "source": [
    "pairs.keys()"
   ]
  },
  {
   "cell_type": "markdown",
   "metadata": {},
   "source": [
    "According to Cover's Theorem:\n",
    "<ol>\n",
    "    <li> if the number of points in d-dimensional space is smaller than 2*d then they are <strong>almost always linearly separable</strong></li>\n",
    "    <li> if the number of points in d-dimensional space is bigger than 2*d then they are <strong>almost always linearly non-separable</strong></li>\n",
    "</ol>\n"
   ]
  },
  {
   "cell_type": "code",
   "execution_count": 6,
   "metadata": {},
   "outputs": [],
   "source": [
    "def check_Seperability(pairs, dimension):\n",
    "    result = dict()\n",
    "    d2 = 2*dimension\n",
    "    for pair, df in pairs.items():\n",
    "        result[pair] = True if df.shape[0]<=d2 else False\n",
    "        \n",
    "    rt = pd.DataFrame.from_dict(result, orient='index').reset_index()\n",
    "    rt.rename(columns={'index':'pairs', 0: \"Seperability\"}, inplace=True )\n",
    "    \n",
    "    return rt"
   ]
  },
  {
   "cell_type": "code",
   "execution_count": 7,
   "metadata": {},
   "outputs": [
    {
     "data": {
      "text/html": [
       "<div>\n",
       "<style scoped>\n",
       "    .dataframe tbody tr th:only-of-type {\n",
       "        vertical-align: middle;\n",
       "    }\n",
       "\n",
       "    .dataframe tbody tr th {\n",
       "        vertical-align: top;\n",
       "    }\n",
       "\n",
       "    .dataframe thead th {\n",
       "        text-align: right;\n",
       "    }\n",
       "</style>\n",
       "<table border=\"1\" class=\"dataframe\">\n",
       "  <thead>\n",
       "    <tr style=\"text-align: right;\">\n",
       "      <th></th>\n",
       "      <th>pairs</th>\n",
       "      <th>Seperability</th>\n",
       "    </tr>\n",
       "  </thead>\n",
       "  <tbody>\n",
       "    <tr>\n",
       "      <th>0</th>\n",
       "      <td>(0, 1)</td>\n",
       "      <td>False</td>\n",
       "    </tr>\n",
       "    <tr>\n",
       "      <th>1</th>\n",
       "      <td>(0, 2)</td>\n",
       "      <td>False</td>\n",
       "    </tr>\n",
       "    <tr>\n",
       "      <th>2</th>\n",
       "      <td>(0, 3)</td>\n",
       "      <td>True</td>\n",
       "    </tr>\n",
       "    <tr>\n",
       "      <th>3</th>\n",
       "      <td>(0, 4)</td>\n",
       "      <td>True</td>\n",
       "    </tr>\n",
       "    <tr>\n",
       "      <th>4</th>\n",
       "      <td>(0, 5)</td>\n",
       "      <td>True</td>\n",
       "    </tr>\n",
       "  </tbody>\n",
       "</table>\n",
       "</div>"
      ],
      "text/plain": [
       "    pairs  Seperability\n",
       "0  (0, 1)         False\n",
       "1  (0, 2)         False\n",
       "2  (0, 3)          True\n",
       "3  (0, 4)          True\n",
       "4  (0, 5)          True"
      ]
     },
     "execution_count": 7,
     "metadata": {},
     "output_type": "execute_result"
    }
   ],
   "source": [
    "sep = check_Seperability(pairs, 256)\n",
    "sep.head()"
   ]
  },
  {
   "cell_type": "code",
   "execution_count": 8,
   "metadata": {},
   "outputs": [
    {
     "data": {
      "text/html": [
       "<div>\n",
       "<style scoped>\n",
       "    .dataframe tbody tr th:only-of-type {\n",
       "        vertical-align: middle;\n",
       "    }\n",
       "\n",
       "    .dataframe tbody tr th {\n",
       "        vertical-align: top;\n",
       "    }\n",
       "\n",
       "    .dataframe thead th {\n",
       "        text-align: right;\n",
       "    }\n",
       "</style>\n",
       "<table border=\"1\" class=\"dataframe\">\n",
       "  <thead>\n",
       "    <tr style=\"text-align: right;\">\n",
       "      <th></th>\n",
       "      <th>pairs</th>\n",
       "      <th>Seperability</th>\n",
       "    </tr>\n",
       "  </thead>\n",
       "  <tbody>\n",
       "    <tr>\n",
       "      <th>0</th>\n",
       "      <td>(0, 1)</td>\n",
       "      <td>False</td>\n",
       "    </tr>\n",
       "    <tr>\n",
       "      <th>1</th>\n",
       "      <td>(0, 2)</td>\n",
       "      <td>False</td>\n",
       "    </tr>\n",
       "  </tbody>\n",
       "</table>\n",
       "</div>"
      ],
      "text/plain": [
       "    pairs  Seperability\n",
       "0  (0, 1)         False\n",
       "1  (0, 2)         False"
      ]
     },
     "execution_count": 8,
     "metadata": {},
     "output_type": "execute_result"
    }
   ],
   "source": [
    "sep[sep['Seperability']==False]"
   ]
  },
  {
   "cell_type": "code",
   "execution_count": 9,
   "metadata": {},
   "outputs": [],
   "source": [
    "def get_performances_for_pairs(pairs):\n",
    "    performances = {}\n",
    "    confxs = {}\n",
    "    for pair, df in pairs.items():\n",
    "        net = Network(learning_rate=1, df=df)\n",
    "        net.train_network(iter_num = 3000)\n",
    "        pred = net.predict(df)\n",
    "        confx = confusion_matrix(df.iloc[:,-1], pred)\n",
    "        confxs[pair] = confx\n",
    "        perf = get_rate(confx)\n",
    "        performances[pair] = perf\n",
    "    return performances, confxs"
   ]
  },
  {
   "cell_type": "code",
   "execution_count": 10,
   "metadata": {},
   "outputs": [],
   "source": [
    "pers, confs = get_performances_for_pairs(pairs)"
   ]
  },
  {
   "cell_type": "code",
   "execution_count": 11,
   "metadata": {},
   "outputs": [
    {
     "data": {
      "text/plain": [
       "{(0, 1): 100.0,\n",
       " (0, 2): 86.9,\n",
       " (0, 3): 88.0,\n",
       " (0, 4): 90.0,\n",
       " (0, 5): 89.4,\n",
       " (0, 6): 85.3,\n",
       " (0, 7): 86.6,\n",
       " (0, 8): 87.9,\n",
       " (0, 9): 88.9,\n",
       " (1, 2): 44.5,\n",
       " (1, 3): 34.2,\n",
       " (1, 4): 32.6,\n",
       " (1, 5): 77.10000000000001,\n",
       " (1, 6): 37.5,\n",
       " (1, 7): 86.8,\n",
       " (1, 8): 89.9,\n",
       " (1, 9): 34.4,\n",
       " (2, 3): 94.6,\n",
       " (2, 4): 92.30000000000001,\n",
       " (2, 5): 84.8,\n",
       " (2, 6): 95.8,\n",
       " (2, 7): 97.3,\n",
       " (2, 8): 95.39999999999999,\n",
       " (2, 9): 97.89999999999999,\n",
       " (3, 4): 99.2,\n",
       " (3, 5): 82.6,\n",
       " (3, 6): 97.89999999999999,\n",
       " (3, 7): 91.60000000000001,\n",
       " (3, 8): 93.5,\n",
       " (3, 9): 97.0,\n",
       " (4, 5): 88.6,\n",
       " (4, 6): 94.89999999999999,\n",
       " (4, 7): 88.9,\n",
       " (4, 8): 97.0,\n",
       " (4, 9): 89.8,\n",
       " (5, 6): 79.10000000000001,\n",
       " (5, 7): 80.7,\n",
       " (5, 8): 83.2,\n",
       " (5, 9): 83.6,\n",
       " (6, 7): 98.1,\n",
       " (6, 8): 98.3,\n",
       " (6, 9): 99.6,\n",
       " (7, 8): 93.5,\n",
       " (7, 9): 88.9,\n",
       " (8, 9): 98.6}"
      ]
     },
     "execution_count": 11,
     "metadata": {},
     "output_type": "execute_result"
    }
   ],
   "source": [
    "pers"
   ]
  },
  {
   "cell_type": "code",
   "execution_count": 12,
   "metadata": {},
   "outputs": [],
   "source": [
    "def createPlot(performances, name):\n",
    "    fig, ax = plt.subplots(figsize=(20, 6))\n",
    "    matrix = np.zeros((10,10), dtype=int)\n",
    "    for (k1, k2), value in performances.items():\n",
    "        matrix[k2,k1] = int(np.round(value))\n",
    "    mask = np.zeros_like(matrix)\n",
    "    mask[np.triu_indices_from(mask)] = True\n",
    "    ax = sns.heatmap(matrix, cmap=\"Blues\", mask=mask, annot=True, fmt='d', linewidths=.5, square=True)\n",
    "    ax.set_xlabel('Digits')\n",
    "    ax.set_ylabel('Digits')\n",
    "    ax.set_title(\"Linearly Seperability of Digits' Pairs\")\n",
    "    fig.savefig(name)\n",
    "    plt.show()"
   ]
  },
  {
   "cell_type": "code",
   "execution_count": 14,
   "metadata": {},
   "outputs": [
    {
     "data": {
      "image/png": "[encoded data removed]",
      "text/plain": [
       "<Figure size 1440x432 with 2 Axes>"
      ]
     },
     "metadata": {},
     "output_type": "display_data"
    }
   ],
   "source": [
    "createPlot(pers, \"./images/LinearlySeperability_TrainingSet3000.png\")"
   ]
  },
  {
   "cell_type": "code",
   "execution_count": null,
   "metadata": {},
   "outputs": [],
   "source": []
  }
 ],
 "metadata": {
  "kernelspec": {
   "display_name": "Python 3",
   "language": "python",
   "name": "python3"
  },
  "language_info": {
   "codemirror_mode": {
    "name": "ipython",
    "version": 3
   },
   "file_extension": ".py",
   "mimetype": "text/x-python",
   "name": "python",
   "nbconvert_exporter": "python",
   "pygments_lexer": "ipython3",
   "version": "3.7.6"
  }
 },
 "nbformat": 4,
 "nbformat_minor": 4
}
